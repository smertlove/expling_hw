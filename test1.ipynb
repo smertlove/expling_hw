{
 "cells": [
  {
   "cell_type": "markdown",
   "id": "a2052874",
   "metadata": {},
   "source": [
    "## Выделить независимые и зависимые переменные\n",
    "#### Независимые:\n",
    "- Timing - когда проходило тестирование\n",
    "\n",
    "#### Зависимые:\n",
    "\n",
    "- Понимание речи: коэффициент афазии - суммарный коэффициент афазии по результатам группы тестов на понимание речи, принимает значения от 0 до 3, где 3 - нет нарушений речи, 0 - грубые нарушения речи\n",
    "- Порождение речи: коэффициент афазии - суммарный коэффициент афазии по результатам группы тестов на порождение речи, принимает значения от 0 до 3, где 3 - нет нарушений речи, 0 - грубые нарушения речи \n",
    "\n",
    "#### Побочные (ковариаты):\n",
    "\n",
    "- ID - идентификатор пациента\n",
    "- AGE - возраст пациента\n",
    "- Localisation – локализация\n",
    "- Dominant_hand – ведущая рука\n",
    "- Diagnosis – диагноз"
   ]
  },
  {
   "cell_type": "code",
   "execution_count": 90,
   "id": "c9b81e8f",
   "metadata": {},
   "outputs": [],
   "source": [
    "import numpy as np\n",
    "import pandas as pd\n",
    "\n",
    "import statsmodels.api as sm\n",
    "from statsmodels.formula.api import ols\n",
    "from statsmodels.stats.anova import anova_lm\n",
    "\n",
    "import scipy\n",
    "from scipy import stats\n",
    "from scipy.stats import kruskal, chi2, f_oneway\n",
    "\n",
    "import matplotlib.pyplot as plt\n",
    "import seaborn as sns\n",
    "\n",
    "import pathlib"
   ]
  },
  {
   "cell_type": "code",
   "execution_count": 91,
   "id": "2fd335fb",
   "metadata": {},
   "outputs": [],
   "source": [
    "DATADIR = pathlib.Path.cwd() / \"data\"\n",
    "RANDOM_STATE = 42"
   ]
  },
  {
   "cell_type": "code",
   "execution_count": 92,
   "id": "3469b592",
   "metadata": {},
   "outputs": [
    {
     "data": {
      "text/html": [
       "<div>\n",
       "<style scoped>\n",
       "    .dataframe tbody tr th:only-of-type {\n",
       "        vertical-align: middle;\n",
       "    }\n",
       "\n",
       "    .dataframe tbody tr th {\n",
       "        vertical-align: top;\n",
       "    }\n",
       "\n",
       "    .dataframe thead th {\n",
       "        text-align: right;\n",
       "    }\n",
       "</style>\n",
       "<table border=\"1\" class=\"dataframe\">\n",
       "  <thead>\n",
       "    <tr style=\"text-align: right;\">\n",
       "      <th></th>\n",
       "      <th>gender</th>\n",
       "      <th>dominant_hand</th>\n",
       "      <th>localisation</th>\n",
       "      <th>diagnosis</th>\n",
       "      <th>ID</th>\n",
       "      <th>Age</th>\n",
       "      <th>Timing</th>\n",
       "      <th>Понимание речи: коэффициент афазии</th>\n",
       "      <th>Порождение речи: коэффициент афазии</th>\n",
       "    </tr>\n",
       "  </thead>\n",
       "  <tbody>\n",
       "    <tr>\n",
       "      <th>0</th>\n",
       "      <td>ж</td>\n",
       "      <td>правша</td>\n",
       "      <td>лоб</td>\n",
       "      <td>опухль</td>\n",
       "      <td>44</td>\n",
       "      <td>37.0</td>\n",
       "      <td>катамнез</td>\n",
       "      <td>3.000000</td>\n",
       "      <td>3.0</td>\n",
       "    </tr>\n",
       "    <tr>\n",
       "      <th>1</th>\n",
       "      <td>ж</td>\n",
       "      <td>правша</td>\n",
       "      <td>лоб</td>\n",
       "      <td>опухль</td>\n",
       "      <td>44</td>\n",
       "      <td>35.0</td>\n",
       "      <td>до</td>\n",
       "      <td>3.000000</td>\n",
       "      <td>3.0</td>\n",
       "    </tr>\n",
       "    <tr>\n",
       "      <th>2</th>\n",
       "      <td>ж</td>\n",
       "      <td>правша</td>\n",
       "      <td>лоб</td>\n",
       "      <td>опухль</td>\n",
       "      <td>44</td>\n",
       "      <td>35.0</td>\n",
       "      <td>после</td>\n",
       "      <td>2.600000</td>\n",
       "      <td>3.0</td>\n",
       "    </tr>\n",
       "    <tr>\n",
       "      <th>3</th>\n",
       "      <td>ж</td>\n",
       "      <td>правша</td>\n",
       "      <td>лоб</td>\n",
       "      <td>опухль</td>\n",
       "      <td>45</td>\n",
       "      <td>47.0</td>\n",
       "      <td>до</td>\n",
       "      <td>2.833333</td>\n",
       "      <td>3.0</td>\n",
       "    </tr>\n",
       "    <tr>\n",
       "      <th>4</th>\n",
       "      <td>ж</td>\n",
       "      <td>правша</td>\n",
       "      <td>лоб</td>\n",
       "      <td>опухль</td>\n",
       "      <td>45</td>\n",
       "      <td>47.0</td>\n",
       "      <td>после</td>\n",
       "      <td>3.000000</td>\n",
       "      <td>3.0</td>\n",
       "    </tr>\n",
       "  </tbody>\n",
       "</table>\n",
       "</div>"
      ],
      "text/plain": [
       "  gender dominant_hand localisation diagnosis  ID   Age    Timing  \\\n",
       "0      ж        правша          лоб    опухль  44  37.0  катамнез   \n",
       "1      ж        правша          лоб    опухль  44  35.0        до   \n",
       "2      ж        правша          лоб    опухль  44  35.0     после   \n",
       "3      ж        правша          лоб    опухль  45  47.0        до   \n",
       "4      ж        правша          лоб    опухль  45  47.0     после   \n",
       "\n",
       "   Понимание речи: коэффициент афазии  Порождение речи: коэффициент афазии  \n",
       "0                            3.000000                                  3.0  \n",
       "1                            3.000000                                  3.0  \n",
       "2                            2.600000                                  3.0  \n",
       "3                            2.833333                                  3.0  \n",
       "4                            3.000000                                  3.0  "
      ]
     },
     "execution_count": 92,
     "metadata": {},
     "output_type": "execute_result"
    }
   ],
   "source": [
    "df_data = pd.read_excel(DATADIR / \"DATA_RAT.xlsx\")\n",
    "df_data.head()"
   ]
  },
  {
   "cell_type": "code",
   "execution_count": 93,
   "id": "54834e81",
   "metadata": {},
   "outputs": [],
   "source": [
    "df_data = df_data.drop(\n",
    "    [\"gender\", \"dominant_hand\", \"localisation\", \"diagnosis\", \"ID\", \"Age\", \"Порождение речи: коэффициент афазии\"],\n",
    "    axis=1\n",
    ")"
   ]
  },
  {
   "cell_type": "code",
   "execution_count": 94,
   "id": "dcdb4d10",
   "metadata": {},
   "outputs": [
    {
     "name": "stdout",
     "output_type": "stream",
     "text": [
      "<class 'pandas.core.frame.DataFrame'>\n",
      "RangeIndex: 1331 entries, 0 to 1330\n",
      "Data columns (total 2 columns):\n",
      " #   Column                              Non-Null Count  Dtype  \n",
      "---  ------                              --------------  -----  \n",
      " 0   Timing                              1331 non-null   object \n",
      " 1   Понимание речи: коэффициент афазии  1303 non-null   float64\n",
      "dtypes: float64(1), object(1)\n",
      "memory usage: 20.9+ KB\n"
     ]
    }
   ],
   "source": [
    "df_data.info()"
   ]
  },
  {
   "cell_type": "code",
   "execution_count": 95,
   "id": "82483527",
   "metadata": {},
   "outputs": [],
   "source": [
    "df_data = df_data.dropna(subset=['Понимание речи: коэффициент афазии'])"
   ]
  },
  {
   "cell_type": "code",
   "execution_count": 96,
   "id": "5c7afbd7",
   "metadata": {},
   "outputs": [
    {
     "name": "stdout",
     "output_type": "stream",
     "text": [
      "<class 'pandas.core.frame.DataFrame'>\n",
      "Index: 1303 entries, 0 to 1330\n",
      "Data columns (total 2 columns):\n",
      " #   Column                              Non-Null Count  Dtype  \n",
      "---  ------                              --------------  -----  \n",
      " 0   Timing                              1303 non-null   object \n",
      " 1   Понимание речи: коэффициент афазии  1303 non-null   float64\n",
      "dtypes: float64(1), object(1)\n",
      "memory usage: 30.5+ KB\n"
     ]
    }
   ],
   "source": [
    "df_data.info()"
   ]
  },
  {
   "cell_type": "code",
   "execution_count": 97,
   "id": "ab274664",
   "metadata": {},
   "outputs": [
    {
     "data": {
      "text/plain": [
       "array(['катамнез', 'до', 'после', 'После', 'после '], dtype=object)"
      ]
     },
     "execution_count": 97,
     "metadata": {},
     "output_type": "execute_result"
    }
   ],
   "source": [
    "df_data[\"Timing\"].unique()"
   ]
  },
  {
   "cell_type": "code",
   "execution_count": 98,
   "id": "53421ed8",
   "metadata": {},
   "outputs": [],
   "source": [
    "df_data[\"Timing\"] = df_data[\"Timing\"].map(lambda elem: elem.strip().lower())"
   ]
  },
  {
   "cell_type": "code",
   "execution_count": 99,
   "id": "9f999b16",
   "metadata": {},
   "outputs": [
    {
     "data": {
      "text/plain": [
       "array(['катамнез', 'до', 'после'], dtype=object)"
      ]
     },
     "execution_count": 99,
     "metadata": {},
     "output_type": "execute_result"
    }
   ],
   "source": [
    "df_data[\"Timing\"].unique()"
   ]
  },
  {
   "cell_type": "markdown",
   "id": "84a8ab1b",
   "metadata": {},
   "source": [
    "## Гипотезы\n",
    "\n",
    "- H0: Понимание речи: коэффициент афазии в период после операции не изменился по сравнению с периодом до операции.\n",
    "- H1: Понимание речи: коэффициент афазии в период после операции изменился по сравнению с периодом до операции.\n",
    "\n",
    "## Парность выборок\n",
    "\n",
    "Да, выборки парные. Измерения коэффициента афазии до и после операции проводятся на одних и тех же пациентах."
   ]
  },
  {
   "cell_type": "code",
   "execution_count": 100,
   "id": "d5f8af9a",
   "metadata": {},
   "outputs": [
    {
     "data": {
      "text/plain": [
       "dict_keys(['до', 'катамнез', 'после'])"
      ]
     },
     "execution_count": 100,
     "metadata": {},
     "output_type": "execute_result"
    }
   ],
   "source": [
    "groups = df_data.groupby(['Timing'])\n",
    "groups.groups.keys()"
   ]
  },
  {
   "cell_type": "code",
   "execution_count": 101,
   "id": "2a8c4694",
   "metadata": {},
   "outputs": [
    {
     "data": {
      "text/html": [
       "<div>\n",
       "<style scoped>\n",
       "    .dataframe tbody tr th:only-of-type {\n",
       "        vertical-align: middle;\n",
       "    }\n",
       "\n",
       "    .dataframe tbody tr th {\n",
       "        vertical-align: top;\n",
       "    }\n",
       "\n",
       "    .dataframe thead th {\n",
       "        text-align: right;\n",
       "    }\n",
       "</style>\n",
       "<table border=\"1\" class=\"dataframe\">\n",
       "  <thead>\n",
       "    <tr style=\"text-align: right;\">\n",
       "      <th></th>\n",
       "      <th>Timing</th>\n",
       "      <th>Понимание речи: коэффициент афазии</th>\n",
       "    </tr>\n",
       "  </thead>\n",
       "  <tbody>\n",
       "    <tr>\n",
       "      <th>1</th>\n",
       "      <td>до</td>\n",
       "      <td>3.000000</td>\n",
       "    </tr>\n",
       "    <tr>\n",
       "      <th>3</th>\n",
       "      <td>до</td>\n",
       "      <td>2.833333</td>\n",
       "    </tr>\n",
       "    <tr>\n",
       "      <th>5</th>\n",
       "      <td>до</td>\n",
       "      <td>2.833333</td>\n",
       "    </tr>\n",
       "    <tr>\n",
       "      <th>7</th>\n",
       "      <td>до</td>\n",
       "      <td>2.833333</td>\n",
       "    </tr>\n",
       "    <tr>\n",
       "      <th>10</th>\n",
       "      <td>до</td>\n",
       "      <td>2.833333</td>\n",
       "    </tr>\n",
       "  </tbody>\n",
       "</table>\n",
       "</div>"
      ],
      "text/plain": [
       "   Timing  Понимание речи: коэффициент афазии\n",
       "1      до                            3.000000\n",
       "3      до                            2.833333\n",
       "5      до                            2.833333\n",
       "7      до                            2.833333\n",
       "10     до                            2.833333"
      ]
     },
     "execution_count": 101,
     "metadata": {},
     "output_type": "execute_result"
    }
   ],
   "source": [
    "group_do = groups.get_group((\"до\",))\n",
    "group_do.head(5)"
   ]
  },
  {
   "cell_type": "code",
   "execution_count": 102,
   "id": "6ddbe64a",
   "metadata": {},
   "outputs": [
    {
     "data": {
      "text/html": [
       "<div>\n",
       "<style scoped>\n",
       "    .dataframe tbody tr th:only-of-type {\n",
       "        vertical-align: middle;\n",
       "    }\n",
       "\n",
       "    .dataframe tbody tr th {\n",
       "        vertical-align: top;\n",
       "    }\n",
       "\n",
       "    .dataframe thead th {\n",
       "        text-align: right;\n",
       "    }\n",
       "</style>\n",
       "<table border=\"1\" class=\"dataframe\">\n",
       "  <thead>\n",
       "    <tr style=\"text-align: right;\">\n",
       "      <th></th>\n",
       "      <th>Timing</th>\n",
       "      <th>Понимание речи: коэффициент афазии</th>\n",
       "    </tr>\n",
       "  </thead>\n",
       "  <tbody>\n",
       "    <tr>\n",
       "      <th>2</th>\n",
       "      <td>после</td>\n",
       "      <td>2.600000</td>\n",
       "    </tr>\n",
       "    <tr>\n",
       "      <th>4</th>\n",
       "      <td>после</td>\n",
       "      <td>3.000000</td>\n",
       "    </tr>\n",
       "    <tr>\n",
       "      <th>6</th>\n",
       "      <td>после</td>\n",
       "      <td>1.833333</td>\n",
       "    </tr>\n",
       "    <tr>\n",
       "      <th>8</th>\n",
       "      <td>после</td>\n",
       "      <td>3.000000</td>\n",
       "    </tr>\n",
       "    <tr>\n",
       "      <th>11</th>\n",
       "      <td>после</td>\n",
       "      <td>3.000000</td>\n",
       "    </tr>\n",
       "  </tbody>\n",
       "</table>\n",
       "</div>"
      ],
      "text/plain": [
       "   Timing  Понимание речи: коэффициент афазии\n",
       "2   после                            2.600000\n",
       "4   после                            3.000000\n",
       "6   после                            1.833333\n",
       "8   после                            3.000000\n",
       "11  после                            3.000000"
      ]
     },
     "execution_count": 102,
     "metadata": {},
     "output_type": "execute_result"
    }
   ],
   "source": [
    "group_posle = groups.get_group((\"после\",))\n",
    "group_posle.head(5)"
   ]
  },
  {
   "cell_type": "code",
   "execution_count": 103,
   "id": "33df2401",
   "metadata": {},
   "outputs": [
    {
     "data": {
      "text/html": [
       "<div>\n",
       "<style scoped>\n",
       "    .dataframe tbody tr th:only-of-type {\n",
       "        vertical-align: middle;\n",
       "    }\n",
       "\n",
       "    .dataframe tbody tr th {\n",
       "        vertical-align: top;\n",
       "    }\n",
       "\n",
       "    .dataframe thead th {\n",
       "        text-align: right;\n",
       "    }\n",
       "</style>\n",
       "<table border=\"1\" class=\"dataframe\">\n",
       "  <thead>\n",
       "    <tr style=\"text-align: right;\">\n",
       "      <th></th>\n",
       "      <th>Понимание речи: коэффициент афазии</th>\n",
       "    </tr>\n",
       "  </thead>\n",
       "  <tbody>\n",
       "    <tr>\n",
       "      <th>count</th>\n",
       "      <td>604.000000</td>\n",
       "    </tr>\n",
       "    <tr>\n",
       "      <th>mean</th>\n",
       "      <td>2.625662</td>\n",
       "    </tr>\n",
       "    <tr>\n",
       "      <th>std</th>\n",
       "      <td>0.415976</td>\n",
       "    </tr>\n",
       "    <tr>\n",
       "      <th>min</th>\n",
       "      <td>0.000000</td>\n",
       "    </tr>\n",
       "    <tr>\n",
       "      <th>25%</th>\n",
       "      <td>2.500000</td>\n",
       "    </tr>\n",
       "    <tr>\n",
       "      <th>50%</th>\n",
       "      <td>2.666667</td>\n",
       "    </tr>\n",
       "    <tr>\n",
       "      <th>75%</th>\n",
       "      <td>2.833333</td>\n",
       "    </tr>\n",
       "    <tr>\n",
       "      <th>max</th>\n",
       "      <td>3.000000</td>\n",
       "    </tr>\n",
       "  </tbody>\n",
       "</table>\n",
       "</div>"
      ],
      "text/plain": [
       "       Понимание речи: коэффициент афазии\n",
       "count                          604.000000\n",
       "mean                             2.625662\n",
       "std                              0.415976\n",
       "min                              0.000000\n",
       "25%                              2.500000\n",
       "50%                              2.666667\n",
       "75%                              2.833333\n",
       "max                              3.000000"
      ]
     },
     "execution_count": 103,
     "metadata": {},
     "output_type": "execute_result"
    }
   ],
   "source": [
    "group_do.describe()"
   ]
  },
  {
   "cell_type": "code",
   "execution_count": 104,
   "id": "7091002b",
   "metadata": {},
   "outputs": [
    {
     "data": {
      "text/html": [
       "<div>\n",
       "<style scoped>\n",
       "    .dataframe tbody tr th:only-of-type {\n",
       "        vertical-align: middle;\n",
       "    }\n",
       "\n",
       "    .dataframe tbody tr th {\n",
       "        vertical-align: top;\n",
       "    }\n",
       "\n",
       "    .dataframe thead th {\n",
       "        text-align: right;\n",
       "    }\n",
       "</style>\n",
       "<table border=\"1\" class=\"dataframe\">\n",
       "  <thead>\n",
       "    <tr style=\"text-align: right;\">\n",
       "      <th></th>\n",
       "      <th>Понимание речи: коэффициент афазии</th>\n",
       "    </tr>\n",
       "  </thead>\n",
       "  <tbody>\n",
       "    <tr>\n",
       "      <th>count</th>\n",
       "      <td>567.000000</td>\n",
       "    </tr>\n",
       "    <tr>\n",
       "      <th>mean</th>\n",
       "      <td>2.443886</td>\n",
       "    </tr>\n",
       "    <tr>\n",
       "      <th>std</th>\n",
       "      <td>0.524254</td>\n",
       "    </tr>\n",
       "    <tr>\n",
       "      <th>min</th>\n",
       "      <td>0.000000</td>\n",
       "    </tr>\n",
       "    <tr>\n",
       "      <th>25%</th>\n",
       "      <td>2.166667</td>\n",
       "    </tr>\n",
       "    <tr>\n",
       "      <th>50%</th>\n",
       "      <td>2.666667</td>\n",
       "    </tr>\n",
       "    <tr>\n",
       "      <th>75%</th>\n",
       "      <td>2.833333</td>\n",
       "    </tr>\n",
       "    <tr>\n",
       "      <th>max</th>\n",
       "      <td>3.000000</td>\n",
       "    </tr>\n",
       "  </tbody>\n",
       "</table>\n",
       "</div>"
      ],
      "text/plain": [
       "       Понимание речи: коэффициент афазии\n",
       "count                          567.000000\n",
       "mean                             2.443886\n",
       "std                              0.524254\n",
       "min                              0.000000\n",
       "25%                              2.166667\n",
       "50%                              2.666667\n",
       "75%                              2.833333\n",
       "max                              3.000000"
      ]
     },
     "execution_count": 104,
     "metadata": {},
     "output_type": "execute_result"
    }
   ],
   "source": [
    "group_posle.describe()"
   ]
  },
  {
   "cell_type": "code",
   "execution_count": 105,
   "id": "cd30a5aa",
   "metadata": {},
   "outputs": [
    {
     "data": {
      "text/plain": [
       "<Axes: xlabel='Понимание речи: коэффициент афазии', ylabel='Count'>"
      ]
     },
     "execution_count": 105,
     "metadata": {},
     "output_type": "execute_result"
    },
    {
     "data": {
      "image/png": "[encoded data removed]",
      "text/plain": [
       "<Figure size 640x480 with 1 Axes>"
      ]
     },
     "metadata": {},
     "output_type": "display_data"
    }
   ],
   "source": [
    "sns.histplot(group_do[\"Понимание речи: коэффициент афазии\"])"
   ]
  },
  {
   "cell_type": "code",
   "execution_count": 106,
   "id": "205a585f",
   "metadata": {},
   "outputs": [
    {
     "data": {
      "text/plain": [
       "<Axes: xlabel='Понимание речи: коэффициент афазии', ylabel='Count'>"
      ]
     },
     "execution_count": 106,
     "metadata": {},
     "output_type": "execute_result"
    },
    {
     "data": {
      "image/png": "[encoded data removed]",
      "text/plain": [
       "<Figure size 640x480 with 1 Axes>"
      ]
     },
     "metadata": {},
     "output_type": "display_data"
    }
   ],
   "source": [
    "sns.histplot(group_posle[\"Понимание речи: коэффициент афазии\"])"
   ]
  },
  {
   "cell_type": "markdown",
   "id": "299e1217",
   "metadata": {},
   "source": [
    "t test"
   ]
  },
  {
   "cell_type": "code",
   "execution_count": 107,
   "id": "18da3391",
   "metadata": {},
   "outputs": [
    {
     "data": {
      "text/plain": [
       "ShapiroResult(statistic=np.float64(0.8459661299555452), pvalue=np.float64(4.741756591985417e-23))"
      ]
     },
     "execution_count": 107,
     "metadata": {},
     "output_type": "execute_result"
    }
   ],
   "source": [
    "stats.shapiro(group_posle['Понимание речи: коэффициент афазии'])"
   ]
  },
  {
   "cell_type": "code",
   "execution_count": 108,
   "id": "88c1b2e9",
   "metadata": {},
   "outputs": [
    {
     "data": {
      "text/plain": [
       "ShapiroResult(statistic=np.float64(0.7745534502101346), pvalue=np.float64(5.358578988203069e-28))"
      ]
     },
     "execution_count": 108,
     "metadata": {},
     "output_type": "execute_result"
    }
   ],
   "source": [
    "stats.shapiro(group_do['Понимание речи: коэффициент афазии'])"
   ]
  },
  {
   "cell_type": "code",
   "execution_count": 109,
   "id": "c6fa6280",
   "metadata": {},
   "outputs": [],
   "source": [
    "## Данные распределены ненормально"
   ]
  },
  {
   "cell_type": "code",
   "execution_count": 110,
   "id": "6f1c5d13",
   "metadata": {},
   "outputs": [],
   "source": [
    "u, p_val = stats.mannwhitneyu(\n",
    "    group_posle['Понимание речи: коэффициент афазии'],\n",
    "    group_do['Понимание речи: коэффициент афазии']\n",
    ")"
   ]
  },
  {
   "cell_type": "code",
   "execution_count": 111,
   "id": "e1a8a960",
   "metadata": {},
   "outputs": [
    {
     "data": {
      "text/plain": [
       "(np.float64(132395.0), np.float64(1.0478461816679817e-11))"
      ]
     },
     "execution_count": 111,
     "metadata": {},
     "output_type": "execute_result"
    }
   ],
   "source": [
    "u, p_val"
   ]
  },
  {
   "cell_type": "code",
   "execution_count": 112,
   "id": "4af03c83",
   "metadata": {},
   "outputs": [],
   "source": [
    "t, p_val = stats.ttest_ind(\n",
    "    group_posle['Понимание речи: коэффициент афазии'],\n",
    "    group_do['Понимание речи: коэффициент афазии']\n",
    ")"
   ]
  },
  {
   "cell_type": "code",
   "execution_count": 113,
   "id": "95d13bb3",
   "metadata": {},
   "outputs": [
    {
     "data": {
      "text/plain": [
       "(np.float64(132395.0), np.float64(6.517465140271964e-11))"
      ]
     },
     "execution_count": 113,
     "metadata": {},
     "output_type": "execute_result"
    }
   ],
   "source": [
    "u, p_val"
   ]
  },
  {
   "cell_type": "code",
   "execution_count": 114,
   "id": "5ad552db",
   "metadata": {},
   "outputs": [],
   "source": [
    "## p_val СИЛЬНО меньше порога 0.05, эффект сильно значим. t < 0, т е в группе ПОСЛЕ значение МЕНЬШЕ чем в группе ДО"
   ]
  },
  {
   "cell_type": "code",
   "execution_count": null,
   "id": "1741736d",
   "metadata": {},
   "outputs": [],
   "source": []
  }
 ],
 "metadata": {
  "kernelspec": {
   "display_name": "venv",
   "language": "python",
   "name": "python3"
  },
  "language_info": {
   "codemirror_mode": {
    "name": "ipython",
    "version": 3
   },
   "file_extension": ".py",
   "mimetype": "text/x-python",
   "name": "python",
   "nbconvert_exporter": "python",
   "pygments_lexer": "ipython3",
   "version": "3.10.12"
  }
 },
 "nbformat": 4,
 "nbformat_minor": 5
}
